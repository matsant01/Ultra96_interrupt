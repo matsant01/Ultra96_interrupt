{
 "cells": [
  {
   "cell_type": "code",
   "execution_count": 12,
   "id": "6d6f4edb",
   "metadata": {},
   "outputs": [],
   "source": [
    "import pynq\n",
    "import asyncio\n",
    "overlay = pynq.Overlay('design_1_wrapper.bit')"
   ]
  },
  {
   "cell_type": "code",
   "execution_count": 13,
   "id": "d2ced803",
   "metadata": {},
   "outputs": [],
   "source": [
    "#overlay?"
   ]
  },
  {
   "cell_type": "code",
   "execution_count": 14,
   "id": "26eeb040",
   "metadata": {
    "scrolled": true
   },
   "outputs": [
    {
     "data": {
      "text/plain": [
       "{'interrupt': {'controller': 'axi_intc_0',\n",
       "  'index': 0,\n",
       "  'fullpath': 'axi_timer_0/interrupt'}}"
      ]
     },
     "execution_count": 14,
     "metadata": {},
     "output_type": "execute_result"
    }
   ],
   "source": [
    "timer = overlay.axi_timer_0\n",
    "timer._interrupts"
   ]
  },
  {
   "cell_type": "code",
   "execution_count": 15,
   "id": "50a54cd8",
   "metadata": {},
   "outputs": [
    {
     "data": {
      "text/plain": [
       "RegisterMap {\n",
       "  TCSR0 = Register(MDT0=0, UDT0=0, GENT0=0, CAPT0=0, ARHT0=0, LOAD0=0, ENIT0=0, ENT0=0, T0INT=0, PWMA0=0, ENALL=0, CASC=0),\n",
       "  TLR0 = Register(TCLR0=0),\n",
       "  TCR0 = Register(TCR0=0),\n",
       "  TCSR1 = Register(MDT1=0, UDT1=0, GENT1=0, CAPT1=0, ARHT1=0, LOAD1=0, ENIT1=0, ENT1=0, T1INT=0, PWMA1=0, ENALL=0),\n",
       "  TLR1 = Register(TCLR1=0),\n",
       "  TCR1 = Register(TCR1=0)\n",
       "}"
      ]
     },
     "execution_count": 15,
     "metadata": {},
     "output_type": "execute_result"
    }
   ],
   "source": [
    "timer.register_map"
   ]
  },
  {
   "cell_type": "code",
   "execution_count": 16,
   "id": "225c4450",
   "metadata": {},
   "outputs": [],
   "source": [
    "interrupt = timer.interrupt"
   ]
  },
  {
   "cell_type": "markdown",
   "id": "12c1c5f3",
   "metadata": {},
   "source": [
    "The Interrupt class provides a single function wait which is an asyncio coroutine that returns when the interrupt is signalled. \n",
    "\n",
    "Coroutines are stateful functions whose execution can be paused. This means that they can yield execution, while they wait on some task or event to complete, but while suspended, they maintain their state."
   ]
  },
  {
   "cell_type": "code",
   "execution_count": 17,
   "id": "677aa06b",
   "metadata": {},
   "outputs": [],
   "source": [
    "async def wait_for_timer(cycles): \n",
    "    timer.register_map.TLR0 = cycles     # Load the value to count from in the TLR0 register\n",
    "    timer.register_map.TCSR0.LOAD0 = 1   # Set then clear the LOAD0 bit to trigger the load\n",
    "    timer.register_map.TCSR0.LOAD0 = 0   \n",
    "    timer.register_map.TCSR0.ENIT0 = 1   # Set the ENIT0 bit to enable the interrupt output\n",
    "    timer.register_map.TCSR0.ENT0 = 1    # Set the UDT0 bit to get the timer to count down\n",
    "    timer.register_map.TCSR0.UDT0 = 1    # Set the ENT0 bit start the timer\n",
    "    print(\"starting\")\n",
    "    #The await keyword determines the point where the coroutine yields control and from which execution will resume.\n",
    "    await interrupt.wait()                \n",
    "    print(\"finished\")\n",
    "    timer.register_map.TCSR0.T0INT = 1   # Clear the interrupt after it has been signaled"
   ]
  },
  {
   "cell_type": "markdown",
   "id": "a755de0e",
   "metadata": {},
   "source": [
    " asyncio library uses event loops to execute coroutines, in order to executes all ready tasks, polling the status of suspended tasks and scheduling the outstanding ones."
   ]
  },
  {
   "cell_type": "code",
   "execution_count": 18,
   "id": "6524bef2",
   "metadata": {},
   "outputs": [],
   "source": [
    "loop = asyncio.get_event_loop()"
   ]
  },
  {
   "cell_type": "markdown",
   "id": "0577dbfa",
   "metadata": {},
   "source": [
    "Coroutines don't execute directly, they are wrapped in tasks"
   ]
  },
  {
   "cell_type": "code",
   "execution_count": 21,
   "id": "6101ecba",
   "metadata": {},
   "outputs": [
    {
     "name": "stdout",
     "output_type": "stream",
     "text": [
      "starting\n",
      "finished\n"
     ]
    }
   ],
   "source": [
    "task = loop.create_task(wait_for_timer(1000000000))\n",
    "loop.run_until_complete(task)"
   ]
  },
  {
   "cell_type": "code",
   "execution_count": null,
   "id": "b1f73439",
   "metadata": {},
   "outputs": [],
   "source": []
  }
 ],
 "metadata": {
  "kernelspec": {
   "display_name": "Python 3",
   "language": "python",
   "name": "python3"
  },
  "language_info": {
   "codemirror_mode": {
    "name": "ipython",
    "version": 3
   },
   "file_extension": ".py",
   "mimetype": "text/x-python",
   "name": "python",
   "nbconvert_exporter": "python",
   "pygments_lexer": "ipython3",
   "version": "3.8.2"
  }
 },
 "nbformat": 4,
 "nbformat_minor": 5
}
